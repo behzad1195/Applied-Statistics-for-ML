{
 "cells": [
  {
   "cell_type": "code",
   "execution_count": 1,
   "metadata": {},
   "outputs": [],
   "source": [
    "# Seed Random Number Generator\n",
    "\n",
    "from random import seed \n",
    "from random import random\n",
    "\n",
    "seed(1) # seed is a parameter start of the sequence. The function is determinstic meaning given the same seed it will produce the same sequence of numbers everytime. But the choice of seed number dosen't matter. The seed function does the psoduorandom number generator taken an integer value as an argument such as 1 or 42. If it doesn't specified it used the current time in milisecond as default.   "
   ]
  },
  {
   "cell_type": "code",
   "execution_count": 2,
   "metadata": {},
   "outputs": [
    {
     "output_type": "stream",
     "name": "stdout",
     "text": [
      "0.13436424411240122 0.8474337369372327 0.763774618976614\n"
     ]
    }
   ],
   "source": [
    "print(random(), random(), random()) # as you can see it generate the same number each time."
   ]
  },
  {
   "cell_type": "code",
   "execution_count": 3,
   "metadata": {},
   "outputs": [],
   "source": [
    "seed(1) "
   ]
  },
  {
   "cell_type": "code",
   "execution_count": 4,
   "metadata": {},
   "outputs": [
    {
     "output_type": "stream",
     "name": "stdout",
     "text": [
      "0.13436424411240122 0.8474337369372327 0.763774618976614\n"
     ]
    }
   ],
   "source": [
    "print(random(), random(), random()) # as you can see it generate the same number each time."
   ]
  },
  {
   "cell_type": "code",
   "execution_count": 5,
   "metadata": {},
   "outputs": [],
   "source": [
    "# Random Floating Point Values / Random values will be created with the value between zero and one.\n",
    "# Value is being created from unified distribution meaning the probability of apperance of each variable is equal to the other in each seprate time (pure randomness)\n",
    "from random import seed \n",
    "from random import random\n",
    "\n",
    "seed(1)"
   ]
  },
  {
   "cell_type": "code",
   "execution_count": 6,
   "metadata": {},
   "outputs": [
    {
     "output_type": "stream",
     "name": "stdout",
     "text": [
      "0.13436424411240122\n0.8474337369372327\n0.763774618976614\n0.2550690257394217\n0.49543508709194095\n0.4494910647887381\n0.651592972722763\n0.7887233511355132\n0.0938595867742349\n0.02834747652200631\n"
     ]
    }
   ],
   "source": [
    "for _ in range(10): # as you can see it generate the same number each time.\n",
    "    value = random() \n",
    "    print(value)"
   ]
  },
  {
   "cell_type": "code",
   "execution_count": 9,
   "metadata": {},
   "outputs": [
    {
     "output_type": "stream",
     "name": "stdout",
     "text": [
      "0.13436424411240122\n0.8474337369372327\n0.763774618976614\n0.2550690257394217\n0.49543508709194095\n0.4494910647887381\n0.651592972722763\n0.7887233511355132\n0.0938595867742349\n0.02834747652200631\n"
     ]
    }
   ],
   "source": [
    "seed (1)\n",
    "for _ in range(10):  # as you can see it generate the same number each time.\n",
    "    value = random() \n",
    "    print(value)"
   ]
  },
  {
   "cell_type": "code",
   "execution_count": 7,
   "metadata": {},
   "outputs": [],
   "source": [
    "# Random Integer Values\n",
    "\n",
    "from random import seed \n",
    "from random import randint \n",
    "\n",
    "seed(1)"
   ]
  },
  {
   "cell_type": "code",
   "execution_count": 8,
   "metadata": {},
   "outputs": [
    {
     "output_type": "stream",
     "name": "stdout",
     "text": [
      "2\n9\n1\n4\n1\n7\n7\n7\n10\n6\n"
     ]
    }
   ],
   "source": [
    "for _ in range(10): \n",
    "    value = randint(0, 10) \n",
    "    print(value)"
   ]
  },
  {
   "cell_type": "code",
   "execution_count": null,
   "metadata": {},
   "outputs": [],
   "source": []
  }
 ],
 "metadata": {
  "kernelspec": {
   "name": "python388jvsc74a57bd0dca0ade3e726a953b501b15e8e990130d2b7799f14cfd9f4271676035ebe5511",
   "display_name": "Python 3.8.8 64-bit ('base': conda)"
  },
  "language_info": {
   "codemirror_mode": {
    "name": "ipython",
    "version": 3
   },
   "file_extension": ".py",
   "mimetype": "text/x-python",
   "name": "python",
   "nbconvert_exporter": "python",
   "pygments_lexer": "ipython3",
   "version": "3.8.8"
  }
 },
 "nbformat": 4,
 "nbformat_minor": 2
}