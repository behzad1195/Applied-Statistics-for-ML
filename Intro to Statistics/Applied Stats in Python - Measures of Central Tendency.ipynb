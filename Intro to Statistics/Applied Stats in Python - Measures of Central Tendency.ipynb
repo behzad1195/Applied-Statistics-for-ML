{
 "cells": [
  {
   "cell_type": "code",
   "execution_count": 8,
   "metadata": {},
   "outputs": [
    {
     "name": "stdout",
     "output_type": "stream",
     "text": [
      "Mean: 50.049\n"
     ]
    }
   ],
   "source": [
    "from numpy.random import seed \n",
    "from numpy.random import randn \n",
    "from numpy import mean # The mean is easily influenced by outliers which are rare values far from the mean.\n",
    "\n",
    "\n",
    "data = 5 * randn(10000) + 50 \n",
    "\n",
    "result = mean(data) \n",
    "print('Mean: %.3f' % result) # %.3f -> only shows up to three decimal"
   ]
  },
  {
   "cell_type": "code",
   "execution_count": 9,
   "metadata": {},
   "outputs": [
    {
     "name": "stdout",
     "output_type": "stream",
     "text": [
      "Median: 50.094\n"
     ]
    }
   ],
   "source": [
    "from numpy.random import seed \n",
    "from numpy.random import randn \n",
    "from numpy import median # in the case of outliers or a non-Gaussian distribution, an alternate and commonly used central tendency to calculate is the median\n",
    "\n",
    "data = 5 * randn(10000) + 50 \n",
    "seed(1)\n",
    "\n",
    "result = median(data) \n",
    "print('Median: %.3f' % result)"
   ]
  },
  {
   "cell_type": "code",
   "execution_count": null,
   "metadata": {},
   "outputs": [],
   "source": [
    "# the results of mean and median are the same because here we created a normal distribution using randn function"
   ]
  }
 ],
 "metadata": {
  "kernelspec": {
   "display_name": "Python 3",
   "language": "python",
   "name": "python3"
  },
  "language_info": {
   "codemirror_mode": {
    "name": "ipython",
    "version": 3
   },
   "file_extension": ".py",
   "mimetype": "text/x-python",
   "name": "python",
   "nbconvert_exporter": "python",
   "pygments_lexer": "ipython3",
   "version": "3.6.4"
  }
 },
 "nbformat": 4,
 "nbformat_minor": 2
}