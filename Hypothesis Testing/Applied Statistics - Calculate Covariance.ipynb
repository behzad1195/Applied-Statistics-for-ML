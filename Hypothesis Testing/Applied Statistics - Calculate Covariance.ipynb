{
 "metadata": {
  "language_info": {
   "codemirror_mode": {
    "name": "ipython",
    "version": 3
   },
   "file_extension": ".py",
   "mimetype": "text/x-python",
   "name": "python",
   "nbconvert_exporter": "python",
   "pygments_lexer": "ipython3",
   "version": "3.8.8"
  },
  "orig_nbformat": 2,
  "kernelspec": {
   "name": "python388jvsc74a57bd0dca0ade3e726a953b501b15e8e990130d2b7799f14cfd9f4271676035ebe5511",
   "display_name": "Python 3.8.8 64-bit ('base': conda)"
  }
 },
 "nbformat": 4,
 "nbformat_minor": 2,
 "cells": [
  {
   "cell_type": "code",
   "execution_count": 1,
   "metadata": {},
   "outputs": [
    {
     "output_type": "stream",
     "name": "stdout",
     "text": [
      "[[385.33297729 389.7545618 ]\n [389.7545618  500.38006058]]\n"
     ]
    }
   ],
   "source": [
    "from numpy.random import randn\n",
    "from numpy.random import seed\n",
    "from numpy import cov\n",
    "\n",
    "seed(1)\n",
    "\n",
    "data1 = 20 * randn(1000) + 100  # linear function -> 20 is slope and 100 is the intercept\n",
    "data2 = data1 + (10 * randn(1000)+50) # adding noise \n",
    "covariance = cov(data1, data2)\n",
    "print(covariance) # a matrix of covariance shows the relatipship of each sample with itself and another hence 2x2 matrix "
   ]
  },
  {
   "source": [
    "* The covaraince between two data is positive and equal to 385.754.\n",
    "    - the covariance value doesn't give us that much of information only the sign of it (+/-) tell us the direction of linear relationship between two variables and/or samples"
   ],
   "cell_type": "markdown",
   "metadata": {}
  }
 ]
}