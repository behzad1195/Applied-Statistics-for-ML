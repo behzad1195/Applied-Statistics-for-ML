{
 "cells": [
  {
   "cell_type": "code",
   "execution_count": 5,
   "metadata": {},
   "outputs": [
    {
     "name": "stdout",
     "output_type": "stream",
     "text": [
      "1.6448536269514722\n",
      "0.95\n"
     ]
    }
   ],
   "source": [
    "# gaussian percent point function -> Z-Score \n",
    "from scipy.stats import norm \n",
    "\n",
    "p = 0.95 # -> the critical value or signisicance level here 95% \n",
    "value = norm.ppf(p) \n",
    "print(value) # -> what is the value of this significance level in our distribution hence any value higher than 1.644 then it rejects the H0\n",
    "\n",
    "p = norm.cdf(value) \n",
    "print(p)"
   ]
  },
  {
   "source": [
    "### Percent Point Function(PPF): -> AKA Quantile Function\n",
    "* In order to calculate the critical value we need a function given a significance when we return an observation from the distribution. Specifically we need the inverse of CDF.\n",
    "* PPF returns the observation calue for the provided probability that is less than or equal to the provided probability from the distribution."
   ],
   "cell_type": "markdown",
   "metadata": {}
  },
  {
   "cell_type": "code",
   "execution_count": 6,
   "metadata": {},
   "outputs": [
    {
     "name": "stdout",
     "output_type": "stream",
     "text": [
      "1.8124611228107335\n",
      "0.949999999999923\n"
     ]
    }
   ],
   "source": [
    "# Student’s t Critical Values\n",
    "from scipy.stats import t\n",
    "\n",
    "p = 0.95 \n",
    "df = 10 # degrees of freedom\n",
    "\n",
    "value = t.ppf(p, df) \n",
    "print(value) \n",
    "\n",
    "p = t.cdf(value, df) \n",
    "print(p)"
   ]
  },
  {
   "cell_type": "code",
   "execution_count": 7,
   "metadata": {},
   "outputs": [
    {
     "name": "stdout",
     "output_type": "stream",
     "text": [
      "18.307038053275143\n",
      "0.95\n"
     ]
    }
   ],
   "source": [
    "# chi-squared percent point function \n",
    "from scipy.stats import chi2 \n",
    "\n",
    "p = 0.95 \n",
    "df = 10 \n",
    "\n",
    "value = chi2.ppf(p, df) \n",
    "print(value)\n",
    "\n",
    "p = chi2.cdf(value, df) \n",
    "print(p)"
   ]
  },
  {
   "cell_type": "code",
   "execution_count": null,
   "metadata": {},
   "outputs": [],
   "source": []
  }
 ],
 "metadata": {
  "kernelspec": {
   "display_name": "Python 3",
   "language": "python",
   "name": "python3"
  },
  "language_info": {
   "codemirror_mode": {
    "name": "ipython",
    "version": 3
   },
   "file_extension": ".py",
   "mimetype": "text/x-python",
   "name": "python",
   "nbconvert_exporter": "python",
   "pygments_lexer": "ipython3",
   "version": "3.6.4"
  }
 },
 "nbformat": 4,
 "nbformat_minor": 2
}